{
 "cells": [
  {
   "cell_type": "markdown",
   "metadata": {},
   "source": [
    "## M6W8 Assignment: Deep Learning II\n",
    "\n",
    "Deep learning is a subfield of machine learning, growing in popularity and power. The combination of a large amount of available unstructured data (images, text, video, audio) and computing power enabled the development and flourishing of deep learning. Nowadays, it is used to solve complex problems and automate tasks, which are too time consuming for humans.\n",
    "\n",
    "The MNIST dataset is a very famous dataset used to test and benchmark new deep learning architectures and models. It contains images of handwritten digits (from 0 to 9). It consists of a training and test sets of features and labels.\n",
    "\n",
    "My first task is to use Keras and develop a model that correctly detects a handwritten digit; this is a multi-class classification task.\n",
    "\n",
    "I will then evaluate my model properly and interpret its performance.\n",
    "\n",
    "I will be working with a version of the MNIST dataset that can be found here:\n",
    "\n",
    "https://www.kaggle.com/oddrationale/mnist-in-csv\n",
    "\n",
    "You can refer to Yann LeCun’s website for the raw data of MNIST, as well as some classifiers developed to correctly classify the images of handwritten images:\n",
    "\n",
    "http://yann.lecun.com/exdb/mnist/"
   ]
  },
  {
   "cell_type": "code",
   "execution_count": 13,
   "metadata": {},
   "outputs": [],
   "source": [
    "#Import packages\n",
    "import pandas as pd\n",
    "import numpy as np\n",
    "import matplotlib.pyplot as plt\n",
    "from keras.models import Sequential\n",
    "from keras.layers import Dense, Conv2D, MaxPooling2D, Flatten\n",
    "from keras.layers.advanced_activations import LeakyReLU\n",
    "from keras.optimizers import Adam\n",
    "from keras.wrappers.scikit_learn import KerasClassifier\n",
    "from sklearn.model_selection import RandomizedSearchCV\n",
    "from keras.utils import to_categorical\n",
    "import random"
   ]
  },
  {
   "cell_type": "code",
   "execution_count": 2,
   "metadata": {},
   "outputs": [],
   "source": [
    "#Import the train and test datasets\n",
    "train = pd.read_csv('mnist_train.csv')\n",
    "test = pd.read_csv('mnist_test.csv')"
   ]
  },
  {
   "cell_type": "code",
   "execution_count": 3,
   "metadata": {},
   "outputs": [
    {
     "name": "stdout",
     "output_type": "stream",
     "text": [
      "   label  1x1  1x2  1x3  1x4  1x5  1x6  1x7  1x8  1x9  ...  28x19  28x20  \\\n",
      "0      5    0    0    0    0    0    0    0    0    0  ...      0      0   \n",
      "1      0    0    0    0    0    0    0    0    0    0  ...      0      0   \n",
      "2      4    0    0    0    0    0    0    0    0    0  ...      0      0   \n",
      "3      1    0    0    0    0    0    0    0    0    0  ...      0      0   \n",
      "4      9    0    0    0    0    0    0    0    0    0  ...      0      0   \n",
      "5      2    0    0    0    0    0    0    0    0    0  ...      0      0   \n",
      "6      1    0    0    0    0    0    0    0    0    0  ...      0      0   \n",
      "7      3    0    0    0    0    0    0    0    0    0  ...      0      0   \n",
      "8      1    0    0    0    0    0    0    0    0    0  ...      0      0   \n",
      "9      4    0    0    0    0    0    0    0    0    0  ...      0      0   \n",
      "\n",
      "   28x21  28x22  28x23  28x24  28x25  28x26  28x27  28x28  \n",
      "0      0      0      0      0      0      0      0      0  \n",
      "1      0      0      0      0      0      0      0      0  \n",
      "2      0      0      0      0      0      0      0      0  \n",
      "3      0      0      0      0      0      0      0      0  \n",
      "4      0      0      0      0      0      0      0      0  \n",
      "5      0      0      0      0      0      0      0      0  \n",
      "6      0      0      0      0      0      0      0      0  \n",
      "7      0      0      0      0      0      0      0      0  \n",
      "8      0      0      0      0      0      0      0      0  \n",
      "9      0      0      0      0      0      0      0      0  \n",
      "\n",
      "[10 rows x 785 columns]\n",
      "   label  1x1  1x2  1x3  1x4  1x5  1x6  1x7  1x8  1x9  ...  28x19  28x20  \\\n",
      "0      7    0    0    0    0    0    0    0    0    0  ...      0      0   \n",
      "1      2    0    0    0    0    0    0    0    0    0  ...      0      0   \n",
      "2      1    0    0    0    0    0    0    0    0    0  ...      0      0   \n",
      "3      0    0    0    0    0    0    0    0    0    0  ...      0      0   \n",
      "4      4    0    0    0    0    0    0    0    0    0  ...      0      0   \n",
      "\n",
      "   28x21  28x22  28x23  28x24  28x25  28x26  28x27  28x28  \n",
      "0      0      0      0      0      0      0      0      0  \n",
      "1      0      0      0      0      0      0      0      0  \n",
      "2      0      0      0      0      0      0      0      0  \n",
      "3      0      0      0      0      0      0      0      0  \n",
      "4      0      0      0      0      0      0      0      0  \n",
      "\n",
      "[5 rows x 785 columns]\n",
      "0    5923\n",
      "1    6742\n",
      "2    5958\n",
      "3    6131\n",
      "4    5842\n",
      "5    5421\n",
      "6    5918\n",
      "7    6265\n",
      "8    5851\n",
      "9    5949\n",
      "Name: label, dtype: int64\n",
      "Train dataset contains 60000 rows\n",
      "\n",
      "Test dataset contains 10000 rows\n"
     ]
    }
   ],
   "source": [
    "print(train.head(10))\n",
    "print(test.head())\n",
    "print(train.label.value_counts().sort_index())\n",
    "print('Train dataset contains', train.shape[0], 'rows\\n')\n",
    "print('Test dataset contains', test.shape[0], 'rows')"
   ]
  },
  {
   "cell_type": "markdown",
   "metadata": {},
   "source": [
    "Both the train and test sets contain 785 columns with the first column `label` relating to the number that the array relates to, and the remaining columns giving the pixel value in a 28x28 image.\n",
    "\n",
    "The labels indicate that the data contains images of digits from `0` through to `9`.\n",
    "\n",
    "The training dataset contains 60,000 images, and the test contains 10,000."
   ]
  },
  {
   "cell_type": "code",
   "execution_count": 4,
   "metadata": {},
   "outputs": [
    {
     "name": "stdout",
     "output_type": "stream",
     "text": [
      "Train dataset missing values: \n",
      " Series([], dtype: int64) \n",
      "\n",
      "Test dataset missing values: \n",
      " Series([], dtype: int64) \n",
      "\n"
     ]
    }
   ],
   "source": [
    "print('Train dataset missing values: \\n', train.isnull().sum().loc[lambda x : x>0].sort_values(ascending=False), '\\n')\n",
    "print('Test dataset missing values: \\n', test.isnull().sum().loc[lambda x : x>0].sort_values(ascending=False), '\\n')"
   ]
  },
  {
   "cell_type": "markdown",
   "metadata": {},
   "source": [
    "We can see from the above that there are no missing values. Next let's pick some random lines from the `train` dataset and check if the images match the `label` column."
   ]
  },
  {
   "cell_type": "code",
   "execution_count": 5,
   "metadata": {},
   "outputs": [
    {
     "name": "stdout",
     "output_type": "stream",
     "text": [
      "Number 7\n"
     ]
    },
    {
     "data": {
      "image/png": "[encoded data removed]",
      "text/plain": [
       "<Figure size 432x288 with 1 Axes>"
      ]
     },
     "metadata": {
      "needs_background": "light"
     },
     "output_type": "display_data"
    },
    {
     "name": "stdout",
     "output_type": "stream",
     "text": [
      "Number 3\n"
     ]
    },
    {
     "data": {
      "image/png": "[encoded data removed]",
      "text/plain": [
       "<Figure size 432x288 with 1 Axes>"
      ]
     },
     "metadata": {
      "needs_background": "light"
     },
     "output_type": "display_data"
    },
    {
     "name": "stdout",
     "output_type": "stream",
     "text": [
      "Number 8\n"
     ]
    },
    {
     "data": {
      "image/png": "[encoded data removed]",
      "text/plain": [
       "<Figure size 432x288 with 1 Axes>"
      ]
     },
     "metadata": {
      "needs_background": "light"
     },
     "output_type": "display_data"
    },
    {
     "name": "stdout",
     "output_type": "stream",
     "text": [
      "Number 9\n"
     ]
    },
    {
     "data": {
      "image/png": "[encoded data removed]",
      "text/plain": [
       "<Figure size 432x288 with 1 Axes>"
      ]
     },
     "metadata": {
      "needs_background": "light"
     },
     "output_type": "display_data"
    },
    {
     "name": "stdout",
     "output_type": "stream",
     "text": [
      "Number 3\n"
     ]
    },
    {
     "data": {
      "image/png": "[encoded data removed]",
      "text/plain": [
       "<Figure size 432x288 with 1 Axes>"
      ]
     },
     "metadata": {
      "needs_background": "light"
     },
     "output_type": "display_data"
    }
   ],
   "source": [
    "#Select a random sample of 5 rows\n",
    "sample = train.sample(5, random_state=42)\n",
    "\n",
    "#loop over rows in sample and display number and corresponding image\n",
    "for index, row in sample.iterrows():\n",
    "    print('Number', row['label'])\n",
    "    img_data = row.drop('label')\n",
    "    img_array = img_data.values.reshape(28, 28)\n",
    "    plt.imshow(img_array)\n",
    "    plt.show()"
   ]
  },
  {
   "cell_type": "markdown",
   "metadata": {},
   "source": [
    "It can be seen from the sample of 5 above that the number matches the image.\n",
    "\n",
    "Let's set up the training and test datasets, and then train a multi-class classification model. I will use `to_categorical` to make the labels compatible with the model. This is to ensure that each example has an expected probability of 1.0 for the actual class value and an expected probability of 0.0 for all other class values\n",
    "\n",
    "In addition, I will convert the 1D array of image data into a 28x28 matrix ready for the model as well as normalise the numbers in the input data to be `floats` that sit between `0` and `1`."
   ]
  },
  {
   "cell_type": "code",
   "execution_count": 6,
   "metadata": {},
   "outputs": [
    {
     "name": "stdout",
     "output_type": "stream",
     "text": [
      "X_train shape: (60000, 28, 28, 1) \n",
      "\n",
      "y_train shape: (60000, 10) \n",
      "\n",
      "X_test shape: (10000, 28, 28, 1) \n",
      "\n",
      "y_test shape: (10000, 10) \n",
      "\n"
     ]
    }
   ],
   "source": [
    "X_train = train.drop('label', axis=1)\n",
    "X_train = X_train.to_numpy().reshape(-1, 28, 28, 1)\n",
    "y_train = train['label']\n",
    "y_train = to_categorical(y_train)\n",
    "X_test = test.drop('label', axis=1)\n",
    "X_test = X_test.to_numpy().reshape(-1, 28, 28, 1)\n",
    "y_test = test['label']\n",
    "y_test = to_categorical(y_test)\n",
    "\n",
    "#Convert values to `float32`\n",
    "X_train = X_train.astype('float32')\n",
    "X_test = X_test.astype('float32')\n",
    "\n",
    "#Convert values to between 0 and 1 \n",
    "#Divide by 255 as that is the range of integers used to represent greyscale\n",
    "X_train = X_train / 255.\n",
    "X_test = X_test / 255.\n",
    "\n",
    "print('X_train shape:' , X_train.shape, '\\n')\n",
    "print('y_train shape:' , y_train.shape, '\\n')\n",
    "print('X_test shape:' , X_test.shape, '\\n')\n",
    "print('y_test shape:' , y_test.shape, '\\n')"
   ]
  },
  {
   "cell_type": "markdown",
   "metadata": {},
   "source": [
    "We can now see that the image data is a 28x28 matrix, and the labels are now a one-hot encoded array of 10 classes.\n",
    "\n",
    "Next let's build a model using the following layers:\n",
    "\n",
    "`Conv2D` - Keras Conv2D is a 2D Convolution Layer, this layer creates a convolution kernel (a convolution matrix or masks which can be used for blurring, sharpening, embossing, edge detection, and more by doing a convolution between a kernel and an image) that helps produce a tensor of outputs. \n",
    "\n",
    "`LeakyRelu` - Helps the network learn non-linear decision boundaries. Since I have ten different classes, we'll need a non-linear decision boundary that could separate these ten classes which are not linearly separable.\n",
    "\n",
    "`MaxPooling2D` - Max pooling reduces the dimensionality of images by reducing the number of pixels in the output from the previous convolutional layer. This reduces computational load as well as reducing over-fitting.\n",
    "\n",
    "`Flatten` - Passes the flattened output to the output layer where I will use a softmax classifier to predict the input class label.\n",
    "\n",
    "The output layer has 10 nodes to match the number of classes (`0` to `9`) and `softmax` as its activation as this is a mutlticlass classification problem."
   ]
  },
  {
   "cell_type": "code",
   "execution_count": 7,
   "metadata": {},
   "outputs": [],
   "source": [
    "#First define a function for the model\n",
    "\n",
    "def digit_model(learning_rate):\n",
    "    \"\"\"\n",
    "    Keras Multi-layer neural network. Set parameters are:\n",
    "    \n",
    "    Use adam as the optimizer\n",
    "    Softmax as the output activation\n",
    "    categorical_crossentropy for loss\n",
    "    \n",
    "    Parameters\n",
    "    ----------\n",
    "    Tunable parameters are:\n",
    "    \n",
    "    batch size\n",
    "    learning rate\n",
    "    epochs\n",
    "    \n",
    "    Returns\n",
    "    -------\n",
    "    model : \n",
    "        a keras model   \n",
    "    \"\"\"   \n",
    "    #Use Adam optimiser using defined learning rate\n",
    "    opt = Adam(lr = learning_rate)\n",
    "    \n",
    "    #Build multi-class model with input to match number of pixels\n",
    "    #Conv2D is best for image recognition\n",
    "    model = Sequential()\n",
    "    \n",
    "    model.add(Conv2D(32, kernel_size=(3, 3),activation='linear',input_shape=(28,28,1),padding='same'))\n",
    "    model.add(LeakyReLU(alpha=0.1))\n",
    "    model.add(MaxPooling2D((2, 2),padding='same'))\n",
    "    model.add(Conv2D(64, (3, 3), activation='linear',padding='same'))\n",
    "    model.add(LeakyReLU(alpha=0.1))\n",
    "    model.add(MaxPooling2D(pool_size=(2, 2),padding='same'))\n",
    "    model.add(Conv2D(128, (3, 3), activation='linear',padding='same'))\n",
    "    model.add(LeakyReLU(alpha=0.1))                  \n",
    "    model.add(MaxPooling2D(pool_size=(2, 2),padding='same'))\n",
    "    model.add(Flatten())\n",
    "    model.add(Dense(128, activation='linear'))\n",
    "    model.add(LeakyReLU(alpha=0.1))   \n",
    "        \n",
    "    #Add output layer with 10 outputs (one for each digit) using softmax\n",
    "    model.add(Dense(10, activation='softmax'))\n",
    "    \n",
    "    #Compile model using categorical_crossentropy, above optimiser, and accuracy as metric\n",
    "    model.compile(loss='categorical_crossentropy', optimizer=opt, metrics=['accuracy'])\n",
    "    return model"
   ]
  },
  {
   "cell_type": "code",
   "execution_count": 8,
   "metadata": {},
   "outputs": [],
   "source": [
    "#Next build Kerasclassifier to use to tune hyper parameters\n",
    "model_keras = KerasClassifier(build_fn = digit_model)\n",
    "\n",
    "#Define parameters to test\n",
    "params = {'batch_size': [32, 64, 128],\n",
    "          'learning_rate': [0.1, 0.01, 0.001],\n",
    "          'epochs': [6, 12, 18]}"
   ]
  },
  {
   "cell_type": "code",
   "execution_count": 9,
   "metadata": {},
   "outputs": [],
   "source": [
    "#Use RandomizedSearchCV to test params given above\n",
    "#Reduced n_iters which will mean lower quality, but faster runtime\n",
    "rs_digits = RandomizedSearchCV(\n",
    "    model_keras,\n",
    "    param_distributions = params,\n",
    "    cv = 5,\n",
    "    n_jobs = -1,\n",
    "    n_iter = 3,\n",
    "    verbose = 1\n",
    ")"
   ]
  },
  {
   "cell_type": "code",
   "execution_count": 10,
   "metadata": {},
   "outputs": [
    {
     "name": "stdout",
     "output_type": "stream",
     "text": [
      "Fitting 5 folds for each of 3 candidates, totalling 15 fits\n"
     ]
    },
    {
     "name": "stderr",
     "output_type": "stream",
     "text": [
      "[Parallel(n_jobs=-1)]: Using backend LokyBackend with 4 concurrent workers.\n",
      "[Parallel(n_jobs=-1)]: Done  15 out of  15 | elapsed: 217.3min finished\n"
     ]
    },
    {
     "name": "stdout",
     "output_type": "stream",
     "text": [
      "Epoch 1/6\n",
      "938/938 [==============================] - 103s 109ms/step - loss: 0.1445 - accuracy: 0.9555 - val_loss: 0.0318 - val_accuracy: 0.9894\n",
      "Epoch 2/6\n",
      "938/938 [==============================] - 100s 106ms/step - loss: 0.0403 - accuracy: 0.9877 - val_loss: 0.0339 - val_accuracy: 0.9883\n",
      "Epoch 3/6\n",
      "938/938 [==============================] - 101s 108ms/step - loss: 0.0268 - accuracy: 0.9916 - val_loss: 0.0281 - val_accuracy: 0.9912\n",
      "Epoch 4/6\n",
      "938/938 [==============================] - 101s 107ms/step - loss: 0.0199 - accuracy: 0.9938 - val_loss: 0.0289 - val_accuracy: 0.9912\n",
      "Epoch 5/6\n",
      "938/938 [==============================] - 101s 108ms/step - loss: 0.0152 - accuracy: 0.9957 - val_loss: 0.0384 - val_accuracy: 0.9875\n",
      "Epoch 6/6\n",
      "938/938 [==============================] - 102s 109ms/step - loss: 0.0124 - accuracy: 0.9960 - val_loss: 0.0403 - val_accuracy: 0.9887\n",
      "Best score: 0.988616669178009\n",
      "Parameters: {'learning_rate': 0.001, 'epochs': 6, 'batch_size': 64}\n"
     ]
    }
   ],
   "source": [
    "#Fit to training data and see best paramters\n",
    "#Validate using test dataset\n",
    "rs_results = rs_digits.fit(X_train, y_train, validation_data=(X_test, y_test))\n",
    "\n",
    "#Display best scores and parameters\n",
    "print('Best score:', rs_results.best_score_)\n",
    "print('Parameters:', rs_results.best_params_)"
   ]
  },
  {
   "cell_type": "markdown",
   "metadata": {},
   "source": [
    "## Summary\n",
    "\n",
    "From the above we can see the accuracy on the training data improve with each epoch and the validation accuracy goes up and then down again very slightly. The loss on the training data also improves while the loss on the validation (test) data improves and then worsens again. This suggests that the model may be starting to slightly overfit after 3 epochs, though this would need further investigation.\n",
    "\n",
    "The `loss` is calculated using `categorical_crossentropy` and calculates a score that summarises the average difference between the actual and predicted probability distributions for all classes in the problem. The score is minimized and a perfect cross-entropy value is 0.\n",
    "\n",
    "The `accuracy` is simply the number of correct predictions over the size of the dataset. So we can see with the test (validation) data it was correct 98.87% of the time.\n",
    "\n",
    "Worth noting that this level accuracy was from the parameters shown above in the results, and using RandomizedSearch with `n_iter` set to 3. Using a GridSearchCV or a higher `n_iter` may have seen a further increase in accuracy.\n",
    "\n",
    "Next let's look at the predications and see how they fare against the actual numbers from a random sample of 5."
   ]
  },
  {
   "cell_type": "code",
   "execution_count": 26,
   "metadata": {},
   "outputs": [
    {
     "name": "stdout",
     "output_type": "stream",
     "text": [
      "Actual: 2 Prediction: 2\n",
      "Actual: 1 Prediction: 1\n",
      "Actual: 2 Prediction: 2\n",
      "Actual: 4 Prediction: 4\n",
      "Actual: 6 Prediction: 6\n"
     ]
    }
   ],
   "source": [
    "y_pred = rs_digits.predict(X_test)\n",
    "random.seed(42)\n",
    "for i in random.sample(range(0, len(X_test)), 5):\n",
    "    actual = np.argmax(y_test[i], axis=-1)\n",
    "    pred = y_pred[i]\n",
    "    print('Actual:', actual, 'Prediction:', pred)"
   ]
  },
  {
   "cell_type": "markdown",
   "metadata": {},
   "source": [
    "We can see from the sample of 5 that the model accurately predicts the digit.\n",
    "\n",
    "## Further work\n",
    "\n",
    "Due to the constraints of the hardware available to me I have been limited in what I could tune the model for, as well as the number of models to test. I would like to further investigate tuning the following parameters and hyperparameters:\n",
    "\n",
    "1) Activation\n",
    "2) Optimisers and their parameters\n",
    "3) Number of layers\n",
    "4) Number of neurons\n",
    "5) Types of layers\n",
    "\n",
    "I would also use `EarlyStopping()` to better tune the number of epochs.\n",
    "\n",
    "I believe the above would bring the model closer to an accuracy of 1."
   ]
  }
 ],
 "metadata": {
  "kernelspec": {
   "display_name": "Python 3",
   "language": "python",
   "name": "python3"
  },
  "language_info": {
   "codemirror_mode": {
    "name": "ipython",
    "version": 3
   },
   "file_extension": ".py",
   "mimetype": "text/x-python",
   "name": "python",
   "nbconvert_exporter": "python",
   "pygments_lexer": "ipython3",
   "version": "3.7.6"
  }
 },
 "nbformat": 4,
 "nbformat_minor": 4
}
